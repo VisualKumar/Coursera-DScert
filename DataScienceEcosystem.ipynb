{
 "cells": [
  {
   "cell_type": "markdown",
   "id": "00929b15-3126-4c53-a916-853865a27fe5",
   "metadata": {},
   "source": [
    "# Data Scence Tools and Ecosystem"
   ]
  },
  {
   "cell_type": "markdown",
   "id": "7e5e8533-987f-432b-b4b5-9733f46e2123",
   "metadata": {},
   "source": [
    "In this notebook, Data Science Tools and Ecosystem are summarized"
   ]
  },
  {
   "cell_type": "markdown",
   "id": "44989973-895e-4378-b059-b121b38ba024",
   "metadata": {},
   "source": [
    "**Objectives:**\n",
    "+ List popular languages for Data Science\n",
    "+ examples of evaluating arithmetic expressions in Python\n",
    "+ commonly used libraries used by Data Scientists"
   ]
  },
  {
   "cell_type": "markdown",
   "id": "791e036a-d959-4b02-b204-555ecf51e334",
   "metadata": {},
   "source": [
    "Some of the popular languages that Scientists use are:\n",
    "1. Python\n",
    "2. Sql\n",
    "3. R"
   ]
  },
  {
   "cell_type": "markdown",
   "id": "f69dc8ff-7a8a-43bc-bf06-581879f91ba4",
   "metadata": {},
   "source": [
    "Some of the commonly used libraries used by Data Scientists include:\n",
    "1. Matplotlib\n",
    "2. Scikit-learn\n",
    "3. ggplot2\n",
    "4. seaborn\n",
    "5. numpy\n",
    "6. pandas"
   ]
  },
  {
   "cell_type": "markdown",
   "id": "66a223c2-c6d6-4973-99fc-4423f0a48c97",
   "metadata": {},
   "source": [
    "|Data Science Tools|\n",
    "|------------------|\n",
    "|R-Studio|\n",
    "|VScode|\n",
    "|Jupyter|"
   ]
  },
  {
   "cell_type": "markdown",
   "id": "da002dca-b2c3-49da-9fea-765f124d4ba0",
   "metadata": {},
   "source": [
    "### Below are a few examples of evaluating arithmetic expressions in Python.\n",
    "\n"
   ]
  },
  {
   "cell_type": "code",
   "execution_count": 7,
   "id": "921ae349-4223-4386-b4cd-08dd222504e3",
   "metadata": {},
   "outputs": [
    {
     "data": {
      "text/plain": [
       "17"
      ]
     },
     "execution_count": 7,
     "metadata": {},
     "output_type": "execute_result"
    }
   ],
   "source": [
    "# This a simple arithmetic expression to mutiply then add integers\n",
    "(3*4)+5\n"
   ]
  },
  {
   "cell_type": "code",
   "execution_count": 9,
   "id": "3b7701a0-8f30-4b91-9907-5d0a95f50ce7",
   "metadata": {},
   "outputs": [
    {
     "data": {
      "text/plain": [
       "3.3333333333333335"
      ]
     },
     "execution_count": 9,
     "metadata": {},
     "output_type": "execute_result"
    }
   ],
   "source": [
    "#This will convert 200 minutes to hours by diving by 60\n",
    "200/60"
   ]
  },
  {
   "cell_type": "markdown",
   "id": "b8e72111-9e9e-4568-b2f6-3595fedf4cf9",
   "metadata": {},
   "source": [
    "## Author\n",
    "Vishal Kumar"
   ]
  },
  {
   "cell_type": "code",
   "execution_count": null,
   "id": "3f2b6c62-7ee7-4457-b3ec-b0d59bdcb82d",
   "metadata": {},
   "outputs": [],
   "source": []
  }
 ],
 "metadata": {
  "kernelspec": {
   "display_name": "Python 3 (ipykernel)",
   "language": "python",
   "name": "python3"
  },
  "language_info": {
   "codemirror_mode": {
    "name": "ipython",
    "version": 3
   },
   "file_extension": ".py",
   "mimetype": "text/x-python",
   "name": "python",
   "nbconvert_exporter": "python",
   "pygments_lexer": "ipython3",
   "version": "3.11.7"
  }
 },
 "nbformat": 4,
 "nbformat_minor": 5
}
